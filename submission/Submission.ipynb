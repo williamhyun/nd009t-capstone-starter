{
  "cells": [
    {
      "cell_type": "code",
      "execution_count": null,
      "metadata": {
        "colab": {
          "base_uri": "https://localhost:8080/"
        },
        "id": "vSfcQ0N3jmsq",
        "outputId": "6cbd78bb-1f9f-40a7-99b1-be5608a940f7"
      },
      "outputs": [
        {
          "output_type": "stream",
          "name": "stdout",
          "text": [
            "Downloading amazon-bin-image-dataset-536434-images-224x224.zip to /content\n",
            " 99% 3.47G/3.50G [00:14<00:00, 342MB/s]\n",
            "100% 3.50G/3.50G [00:14<00:00, 260MB/s]\n"
          ]
        }
      ],
      "source": [
        "!kaggle datasets download williamhyun/amazon-bin-image-dataset-536434-images-224x224\n",
        "!rm -rf bin-images-224x224\n",
        "!unzip amazon-bin-image-dataset-536434-images-224x224.zip > /dev/null"
      ]
    },
    {
      "cell_type": "markdown",
      "metadata": {
        "id": "ERzyh45Fjcsy"
      },
      "source": [
        "# Install required packages"
      ]
    },
    {
      "cell_type": "code",
      "execution_count": null,
      "metadata": {
        "id": "0qtRnf7Rjcs0",
        "colab": {
          "base_uri": "https://localhost:8080/"
        },
        "outputId": "8c875ffd-b055-43af-97c6-6388c2f62e78"
      },
      "outputs": [
        {
          "output_type": "stream",
          "name": "stdout",
          "text": [
            "Looking in indexes: https://pypi.org/simple, https://us-python.pkg.dev/colab-wheels/public/simple/\n",
            "Requirement already satisfied: timm in /usr/local/lib/python3.7/dist-packages (0.5.4)\n",
            "Requirement already satisfied: torchvision in /usr/local/lib/python3.7/dist-packages (0.12.0+cu113)\n",
            "Requirement already satisfied: torch>=1.4 in /usr/local/lib/python3.7/dist-packages (from timm) (1.11.0+cu113)\n",
            "Requirement already satisfied: typing-extensions in /usr/local/lib/python3.7/dist-packages (from torch>=1.4->timm) (4.2.0)\n",
            "Requirement already satisfied: pillow!=8.3.*,>=5.3.0 in /usr/local/lib/python3.7/dist-packages (from torchvision) (7.1.2)\n",
            "Requirement already satisfied: numpy in /usr/local/lib/python3.7/dist-packages (from torchvision) (1.21.6)\n",
            "Requirement already satisfied: requests in /usr/local/lib/python3.7/dist-packages (from torchvision) (2.23.0)\n",
            "Requirement already satisfied: chardet<4,>=3.0.2 in /usr/local/lib/python3.7/dist-packages (from requests->torchvision) (3.0.4)\n",
            "Requirement already satisfied: urllib3!=1.25.0,!=1.25.1,<1.26,>=1.21.1 in /usr/local/lib/python3.7/dist-packages (from requests->torchvision) (1.24.3)\n",
            "Requirement already satisfied: certifi>=2017.4.17 in /usr/local/lib/python3.7/dist-packages (from requests->torchvision) (2022.5.18.1)\n",
            "Requirement already satisfied: idna<3,>=2.5 in /usr/local/lib/python3.7/dist-packages (from requests->torchvision) (2.10)\n"
          ]
        }
      ],
      "source": [
        "!pip3 install -U timm torchvision # > /dev/null"
      ]
    },
    {
      "cell_type": "markdown",
      "metadata": {
        "id": "tdJnM8Rzjcs2"
      },
      "source": [
        "# Load medatadata"
      ]
    },
    {
      "cell_type": "code",
      "execution_count": null,
      "metadata": {
        "colab": {
          "base_uri": "https://localhost:8080/",
          "height": 419
        },
        "id": "jTf1xLZAjcs2",
        "outputId": "e7afce73-6085-42aa-e77b-dccfd43cf121"
      },
      "outputs": [
        {
          "output_type": "execute_result",
          "data": {
            "text/plain": [
              "              name  quantity\n",
              "0        00001.jpg        12\n",
              "1            1.jpg         0\n",
              "2        00002.jpg        17\n",
              "3            2.jpg         0\n",
              "4        00003.jpg        16\n",
              "...            ...       ...\n",
              "536429  535230.jpg         3\n",
              "536430  535231.jpg         4\n",
              "536431  535232.jpg         3\n",
              "536432  535233.jpg         2\n",
              "536433  535234.jpg         3\n",
              "\n",
              "[536434 rows x 2 columns]"
            ],
            "text/html": [
              "\n",
              "  <div id=\"df-262533fa-8db8-42b7-a4b7-5486b918ea70\">\n",
              "    <div class=\"colab-df-container\">\n",
              "      <div>\n",
              "<style scoped>\n",
              "    .dataframe tbody tr th:only-of-type {\n",
              "        vertical-align: middle;\n",
              "    }\n",
              "\n",
              "    .dataframe tbody tr th {\n",
              "        vertical-align: top;\n",
              "    }\n",
              "\n",
              "    .dataframe thead th {\n",
              "        text-align: right;\n",
              "    }\n",
              "</style>\n",
              "<table border=\"1\" class=\"dataframe\">\n",
              "  <thead>\n",
              "    <tr style=\"text-align: right;\">\n",
              "      <th></th>\n",
              "      <th>name</th>\n",
              "      <th>quantity</th>\n",
              "    </tr>\n",
              "  </thead>\n",
              "  <tbody>\n",
              "    <tr>\n",
              "      <th>0</th>\n",
              "      <td>00001.jpg</td>\n",
              "      <td>12</td>\n",
              "    </tr>\n",
              "    <tr>\n",
              "      <th>1</th>\n",
              "      <td>1.jpg</td>\n",
              "      <td>0</td>\n",
              "    </tr>\n",
              "    <tr>\n",
              "      <th>2</th>\n",
              "      <td>00002.jpg</td>\n",
              "      <td>17</td>\n",
              "    </tr>\n",
              "    <tr>\n",
              "      <th>3</th>\n",
              "      <td>2.jpg</td>\n",
              "      <td>0</td>\n",
              "    </tr>\n",
              "    <tr>\n",
              "      <th>4</th>\n",
              "      <td>00003.jpg</td>\n",
              "      <td>16</td>\n",
              "    </tr>\n",
              "    <tr>\n",
              "      <th>...</th>\n",
              "      <td>...</td>\n",
              "      <td>...</td>\n",
              "    </tr>\n",
              "    <tr>\n",
              "      <th>536429</th>\n",
              "      <td>535230.jpg</td>\n",
              "      <td>3</td>\n",
              "    </tr>\n",
              "    <tr>\n",
              "      <th>536430</th>\n",
              "      <td>535231.jpg</td>\n",
              "      <td>4</td>\n",
              "    </tr>\n",
              "    <tr>\n",
              "      <th>536431</th>\n",
              "      <td>535232.jpg</td>\n",
              "      <td>3</td>\n",
              "    </tr>\n",
              "    <tr>\n",
              "      <th>536432</th>\n",
              "      <td>535233.jpg</td>\n",
              "      <td>2</td>\n",
              "    </tr>\n",
              "    <tr>\n",
              "      <th>536433</th>\n",
              "      <td>535234.jpg</td>\n",
              "      <td>3</td>\n",
              "    </tr>\n",
              "  </tbody>\n",
              "</table>\n",
              "<p>536434 rows × 2 columns</p>\n",
              "</div>\n",
              "      <button class=\"colab-df-convert\" onclick=\"convertToInteractive('df-262533fa-8db8-42b7-a4b7-5486b918ea70')\"\n",
              "              title=\"Convert this dataframe to an interactive table.\"\n",
              "              style=\"display:none;\">\n",
              "        \n",
              "  <svg xmlns=\"http://www.w3.org/2000/svg\" height=\"24px\"viewBox=\"0 0 24 24\"\n",
              "       width=\"24px\">\n",
              "    <path d=\"M0 0h24v24H0V0z\" fill=\"none\"/>\n",
              "    <path d=\"M18.56 5.44l.94 2.06.94-2.06 2.06-.94-2.06-.94-.94-2.06-.94 2.06-2.06.94zm-11 1L8.5 8.5l.94-2.06 2.06-.94-2.06-.94L8.5 2.5l-.94 2.06-2.06.94zm10 10l.94 2.06.94-2.06 2.06-.94-2.06-.94-.94-2.06-.94 2.06-2.06.94z\"/><path d=\"M17.41 7.96l-1.37-1.37c-.4-.4-.92-.59-1.43-.59-.52 0-1.04.2-1.43.59L10.3 9.45l-7.72 7.72c-.78.78-.78 2.05 0 2.83L4 21.41c.39.39.9.59 1.41.59.51 0 1.02-.2 1.41-.59l7.78-7.78 2.81-2.81c.8-.78.8-2.07 0-2.86zM5.41 20L4 18.59l7.72-7.72 1.47 1.35L5.41 20z\"/>\n",
              "  </svg>\n",
              "      </button>\n",
              "      \n",
              "  <style>\n",
              "    .colab-df-container {\n",
              "      display:flex;\n",
              "      flex-wrap:wrap;\n",
              "      gap: 12px;\n",
              "    }\n",
              "\n",
              "    .colab-df-convert {\n",
              "      background-color: #E8F0FE;\n",
              "      border: none;\n",
              "      border-radius: 50%;\n",
              "      cursor: pointer;\n",
              "      display: none;\n",
              "      fill: #1967D2;\n",
              "      height: 32px;\n",
              "      padding: 0 0 0 0;\n",
              "      width: 32px;\n",
              "    }\n",
              "\n",
              "    .colab-df-convert:hover {\n",
              "      background-color: #E2EBFA;\n",
              "      box-shadow: 0px 1px 2px rgba(60, 64, 67, 0.3), 0px 1px 3px 1px rgba(60, 64, 67, 0.15);\n",
              "      fill: #174EA6;\n",
              "    }\n",
              "\n",
              "    [theme=dark] .colab-df-convert {\n",
              "      background-color: #3B4455;\n",
              "      fill: #D2E3FC;\n",
              "    }\n",
              "\n",
              "    [theme=dark] .colab-df-convert:hover {\n",
              "      background-color: #434B5C;\n",
              "      box-shadow: 0px 1px 3px 1px rgba(0, 0, 0, 0.15);\n",
              "      filter: drop-shadow(0px 1px 2px rgba(0, 0, 0, 0.3));\n",
              "      fill: #FFFFFF;\n",
              "    }\n",
              "  </style>\n",
              "\n",
              "      <script>\n",
              "        const buttonEl =\n",
              "          document.querySelector('#df-262533fa-8db8-42b7-a4b7-5486b918ea70 button.colab-df-convert');\n",
              "        buttonEl.style.display =\n",
              "          google.colab.kernel.accessAllowed ? 'block' : 'none';\n",
              "\n",
              "        async function convertToInteractive(key) {\n",
              "          const element = document.querySelector('#df-262533fa-8db8-42b7-a4b7-5486b918ea70');\n",
              "          const dataTable =\n",
              "            await google.colab.kernel.invokeFunction('convertToInteractive',\n",
              "                                                     [key], {});\n",
              "          if (!dataTable) return;\n",
              "\n",
              "          const docLinkHtml = 'Like what you see? Visit the ' +\n",
              "            '<a target=\"_blank\" href=https://colab.research.google.com/notebooks/data_table.ipynb>data table notebook</a>'\n",
              "            + ' to learn more about interactive tables.';\n",
              "          element.innerHTML = '';\n",
              "          dataTable['output_type'] = 'display_data';\n",
              "          await google.colab.output.renderOutput(dataTable, element);\n",
              "          const docLink = document.createElement('div');\n",
              "          docLink.innerHTML = docLinkHtml;\n",
              "          element.appendChild(docLink);\n",
              "        }\n",
              "      </script>\n",
              "    </div>\n",
              "  </div>\n",
              "  "
            ]
          },
          "metadata": {},
          "execution_count": 2
        }
      ],
      "source": [
        "import pandas as pd\n",
        "import sqlite3\n",
        "\n",
        "conn = sqlite3.connect(\"metadata.db\")\n",
        "df = pd.read_sql_query(\"SELECT name, json_extract(metadata, '$.EXPECTED_QUANTITY') quantity FROM metadata\", conn)\n",
        "conn.close()\n",
        "df"
      ]
    },
    {
      "cell_type": "markdown",
      "metadata": {
        "id": "Rxued0K5jcs3"
      },
      "source": [
        "# Check class distribution"
      ]
    },
    {
      "cell_type": "code",
      "source": [
        "df.describe()"
      ],
      "metadata": {
        "colab": {
          "base_uri": "https://localhost:8080/",
          "height": 297
        },
        "id": "_Ck7iWLLuDn2",
        "outputId": "1f06bda0-67a7-48ac-ccfb-a69b2e93f741"
      },
      "execution_count": null,
      "outputs": [
        {
          "output_type": "execute_result",
          "data": {
            "text/plain": [
              "            quantity\n",
              "count  536434.000000\n",
              "mean        5.107281\n",
              "std         4.620148\n",
              "min         0.000000\n",
              "25%         3.000000\n",
              "50%         4.000000\n",
              "75%         6.000000\n",
              "max       209.000000"
            ],
            "text/html": [
              "\n",
              "  <div id=\"df-870cdd72-7045-48bb-9c0d-760499bdd86b\">\n",
              "    <div class=\"colab-df-container\">\n",
              "      <div>\n",
              "<style scoped>\n",
              "    .dataframe tbody tr th:only-of-type {\n",
              "        vertical-align: middle;\n",
              "    }\n",
              "\n",
              "    .dataframe tbody tr th {\n",
              "        vertical-align: top;\n",
              "    }\n",
              "\n",
              "    .dataframe thead th {\n",
              "        text-align: right;\n",
              "    }\n",
              "</style>\n",
              "<table border=\"1\" class=\"dataframe\">\n",
              "  <thead>\n",
              "    <tr style=\"text-align: right;\">\n",
              "      <th></th>\n",
              "      <th>quantity</th>\n",
              "    </tr>\n",
              "  </thead>\n",
              "  <tbody>\n",
              "    <tr>\n",
              "      <th>count</th>\n",
              "      <td>536434.000000</td>\n",
              "    </tr>\n",
              "    <tr>\n",
              "      <th>mean</th>\n",
              "      <td>5.107281</td>\n",
              "    </tr>\n",
              "    <tr>\n",
              "      <th>std</th>\n",
              "      <td>4.620148</td>\n",
              "    </tr>\n",
              "    <tr>\n",
              "      <th>min</th>\n",
              "      <td>0.000000</td>\n",
              "    </tr>\n",
              "    <tr>\n",
              "      <th>25%</th>\n",
              "      <td>3.000000</td>\n",
              "    </tr>\n",
              "    <tr>\n",
              "      <th>50%</th>\n",
              "      <td>4.000000</td>\n",
              "    </tr>\n",
              "    <tr>\n",
              "      <th>75%</th>\n",
              "      <td>6.000000</td>\n",
              "    </tr>\n",
              "    <tr>\n",
              "      <th>max</th>\n",
              "      <td>209.000000</td>\n",
              "    </tr>\n",
              "  </tbody>\n",
              "</table>\n",
              "</div>\n",
              "      <button class=\"colab-df-convert\" onclick=\"convertToInteractive('df-870cdd72-7045-48bb-9c0d-760499bdd86b')\"\n",
              "              title=\"Convert this dataframe to an interactive table.\"\n",
              "              style=\"display:none;\">\n",
              "        \n",
              "  <svg xmlns=\"http://www.w3.org/2000/svg\" height=\"24px\"viewBox=\"0 0 24 24\"\n",
              "       width=\"24px\">\n",
              "    <path d=\"M0 0h24v24H0V0z\" fill=\"none\"/>\n",
              "    <path d=\"M18.56 5.44l.94 2.06.94-2.06 2.06-.94-2.06-.94-.94-2.06-.94 2.06-2.06.94zm-11 1L8.5 8.5l.94-2.06 2.06-.94-2.06-.94L8.5 2.5l-.94 2.06-2.06.94zm10 10l.94 2.06.94-2.06 2.06-.94-2.06-.94-.94-2.06-.94 2.06-2.06.94z\"/><path d=\"M17.41 7.96l-1.37-1.37c-.4-.4-.92-.59-1.43-.59-.52 0-1.04.2-1.43.59L10.3 9.45l-7.72 7.72c-.78.78-.78 2.05 0 2.83L4 21.41c.39.39.9.59 1.41.59.51 0 1.02-.2 1.41-.59l7.78-7.78 2.81-2.81c.8-.78.8-2.07 0-2.86zM5.41 20L4 18.59l7.72-7.72 1.47 1.35L5.41 20z\"/>\n",
              "  </svg>\n",
              "      </button>\n",
              "      \n",
              "  <style>\n",
              "    .colab-df-container {\n",
              "      display:flex;\n",
              "      flex-wrap:wrap;\n",
              "      gap: 12px;\n",
              "    }\n",
              "\n",
              "    .colab-df-convert {\n",
              "      background-color: #E8F0FE;\n",
              "      border: none;\n",
              "      border-radius: 50%;\n",
              "      cursor: pointer;\n",
              "      display: none;\n",
              "      fill: #1967D2;\n",
              "      height: 32px;\n",
              "      padding: 0 0 0 0;\n",
              "      width: 32px;\n",
              "    }\n",
              "\n",
              "    .colab-df-convert:hover {\n",
              "      background-color: #E2EBFA;\n",
              "      box-shadow: 0px 1px 2px rgba(60, 64, 67, 0.3), 0px 1px 3px 1px rgba(60, 64, 67, 0.15);\n",
              "      fill: #174EA6;\n",
              "    }\n",
              "\n",
              "    [theme=dark] .colab-df-convert {\n",
              "      background-color: #3B4455;\n",
              "      fill: #D2E3FC;\n",
              "    }\n",
              "\n",
              "    [theme=dark] .colab-df-convert:hover {\n",
              "      background-color: #434B5C;\n",
              "      box-shadow: 0px 1px 3px 1px rgba(0, 0, 0, 0.15);\n",
              "      filter: drop-shadow(0px 1px 2px rgba(0, 0, 0, 0.3));\n",
              "      fill: #FFFFFF;\n",
              "    }\n",
              "  </style>\n",
              "\n",
              "      <script>\n",
              "        const buttonEl =\n",
              "          document.querySelector('#df-870cdd72-7045-48bb-9c0d-760499bdd86b button.colab-df-convert');\n",
              "        buttonEl.style.display =\n",
              "          google.colab.kernel.accessAllowed ? 'block' : 'none';\n",
              "\n",
              "        async function convertToInteractive(key) {\n",
              "          const element = document.querySelector('#df-870cdd72-7045-48bb-9c0d-760499bdd86b');\n",
              "          const dataTable =\n",
              "            await google.colab.kernel.invokeFunction('convertToInteractive',\n",
              "                                                     [key], {});\n",
              "          if (!dataTable) return;\n",
              "\n",
              "          const docLinkHtml = 'Like what you see? Visit the ' +\n",
              "            '<a target=\"_blank\" href=https://colab.research.google.com/notebooks/data_table.ipynb>data table notebook</a>'\n",
              "            + ' to learn more about interactive tables.';\n",
              "          element.innerHTML = '';\n",
              "          dataTable['output_type'] = 'display_data';\n",
              "          await google.colab.output.renderOutput(dataTable, element);\n",
              "          const docLink = document.createElement('div');\n",
              "          docLink.innerHTML = docLinkHtml;\n",
              "          element.appendChild(docLink);\n",
              "        }\n",
              "      </script>\n",
              "    </div>\n",
              "  </div>\n",
              "  "
            ]
          },
          "metadata": {},
          "execution_count": 3
        }
      ]
    },
    {
      "cell_type": "code",
      "execution_count": null,
      "metadata": {
        "colab": {
          "base_uri": "https://localhost:8080/",
          "height": 282
        },
        "id": "EYFXKY02jcs3",
        "outputId": "9ea36d2e-dff8-4d31-a221-352b3368be6b"
      },
      "outputs": [
        {
          "output_type": "execute_result",
          "data": {
            "text/plain": [
              "<matplotlib.axes._subplots.AxesSubplot at 0x7fec2d43f0d0>"
            ]
          },
          "metadata": {},
          "execution_count": 4
        },
        {
          "output_type": "display_data",
          "data": {
            "text/plain": [
              "<Figure size 432x288 with 1 Axes>"
            ],
            "image/png": "[encoded data removed]"
          },
          "metadata": {
            "needs_background": "light"
          }
        }
      ],
      "source": [
        "df.quantity.hist(bins=210)"
      ]
    },
    {
      "cell_type": "code",
      "source": [
        "df.quantile(.75)"
      ],
      "metadata": {
        "colab": {
          "base_uri": "https://localhost:8080/"
        },
        "id": "_7_RjFIUuUOF",
        "outputId": "9d745054-7508-447d-8020-b3a0492c7c34"
      },
      "execution_count": null,
      "outputs": [
        {
          "output_type": "execute_result",
          "data": {
            "text/plain": [
              "quantity    6.0\n",
              "Name: 0.75, dtype: float64"
            ]
          },
          "metadata": {},
          "execution_count": 5
        }
      ]
    },
    {
      "cell_type": "code",
      "source": [
        "df2 = df[df['quantity'] < 7]\n",
        "df2.describe()"
      ],
      "metadata": {
        "colab": {
          "base_uri": "https://localhost:8080/",
          "height": 297
        },
        "id": "2qM6o95oueu-",
        "outputId": "8c1d0788-0529-48e5-96d9-5f78661196f1"
      },
      "execution_count": null,
      "outputs": [
        {
          "output_type": "execute_result",
          "data": {
            "text/plain": [
              "            quantity\n",
              "count  408025.000000\n",
              "mean        3.379290\n",
              "std         1.580104\n",
              "min         0.000000\n",
              "25%         2.000000\n",
              "50%         3.000000\n",
              "75%         5.000000\n",
              "max         6.000000"
            ],
            "text/html": [
              "\n",
              "  <div id=\"df-17b42506-de2b-4fd7-889a-ee8f4d5166d3\">\n",
              "    <div class=\"colab-df-container\">\n",
              "      <div>\n",
              "<style scoped>\n",
              "    .dataframe tbody tr th:only-of-type {\n",
              "        vertical-align: middle;\n",
              "    }\n",
              "\n",
              "    .dataframe tbody tr th {\n",
              "        vertical-align: top;\n",
              "    }\n",
              "\n",
              "    .dataframe thead th {\n",
              "        text-align: right;\n",
              "    }\n",
              "</style>\n",
              "<table border=\"1\" class=\"dataframe\">\n",
              "  <thead>\n",
              "    <tr style=\"text-align: right;\">\n",
              "      <th></th>\n",
              "      <th>quantity</th>\n",
              "    </tr>\n",
              "  </thead>\n",
              "  <tbody>\n",
              "    <tr>\n",
              "      <th>count</th>\n",
              "      <td>408025.000000</td>\n",
              "    </tr>\n",
              "    <tr>\n",
              "      <th>mean</th>\n",
              "      <td>3.379290</td>\n",
              "    </tr>\n",
              "    <tr>\n",
              "      <th>std</th>\n",
              "      <td>1.580104</td>\n",
              "    </tr>\n",
              "    <tr>\n",
              "      <th>min</th>\n",
              "      <td>0.000000</td>\n",
              "    </tr>\n",
              "    <tr>\n",
              "      <th>25%</th>\n",
              "      <td>2.000000</td>\n",
              "    </tr>\n",
              "    <tr>\n",
              "      <th>50%</th>\n",
              "      <td>3.000000</td>\n",
              "    </tr>\n",
              "    <tr>\n",
              "      <th>75%</th>\n",
              "      <td>5.000000</td>\n",
              "    </tr>\n",
              "    <tr>\n",
              "      <th>max</th>\n",
              "      <td>6.000000</td>\n",
              "    </tr>\n",
              "  </tbody>\n",
              "</table>\n",
              "</div>\n",
              "      <button class=\"colab-df-convert\" onclick=\"convertToInteractive('df-17b42506-de2b-4fd7-889a-ee8f4d5166d3')\"\n",
              "              title=\"Convert this dataframe to an interactive table.\"\n",
              "              style=\"display:none;\">\n",
              "        \n",
              "  <svg xmlns=\"http://www.w3.org/2000/svg\" height=\"24px\"viewBox=\"0 0 24 24\"\n",
              "       width=\"24px\">\n",
              "    <path d=\"M0 0h24v24H0V0z\" fill=\"none\"/>\n",
              "    <path d=\"M18.56 5.44l.94 2.06.94-2.06 2.06-.94-2.06-.94-.94-2.06-.94 2.06-2.06.94zm-11 1L8.5 8.5l.94-2.06 2.06-.94-2.06-.94L8.5 2.5l-.94 2.06-2.06.94zm10 10l.94 2.06.94-2.06 2.06-.94-2.06-.94-.94-2.06-.94 2.06-2.06.94z\"/><path d=\"M17.41 7.96l-1.37-1.37c-.4-.4-.92-.59-1.43-.59-.52 0-1.04.2-1.43.59L10.3 9.45l-7.72 7.72c-.78.78-.78 2.05 0 2.83L4 21.41c.39.39.9.59 1.41.59.51 0 1.02-.2 1.41-.59l7.78-7.78 2.81-2.81c.8-.78.8-2.07 0-2.86zM5.41 20L4 18.59l7.72-7.72 1.47 1.35L5.41 20z\"/>\n",
              "  </svg>\n",
              "      </button>\n",
              "      \n",
              "  <style>\n",
              "    .colab-df-container {\n",
              "      display:flex;\n",
              "      flex-wrap:wrap;\n",
              "      gap: 12px;\n",
              "    }\n",
              "\n",
              "    .colab-df-convert {\n",
              "      background-color: #E8F0FE;\n",
              "      border: none;\n",
              "      border-radius: 50%;\n",
              "      cursor: pointer;\n",
              "      display: none;\n",
              "      fill: #1967D2;\n",
              "      height: 32px;\n",
              "      padding: 0 0 0 0;\n",
              "      width: 32px;\n",
              "    }\n",
              "\n",
              "    .colab-df-convert:hover {\n",
              "      background-color: #E2EBFA;\n",
              "      box-shadow: 0px 1px 2px rgba(60, 64, 67, 0.3), 0px 1px 3px 1px rgba(60, 64, 67, 0.15);\n",
              "      fill: #174EA6;\n",
              "    }\n",
              "\n",
              "    [theme=dark] .colab-df-convert {\n",
              "      background-color: #3B4455;\n",
              "      fill: #D2E3FC;\n",
              "    }\n",
              "\n",
              "    [theme=dark] .colab-df-convert:hover {\n",
              "      background-color: #434B5C;\n",
              "      box-shadow: 0px 1px 3px 1px rgba(0, 0, 0, 0.15);\n",
              "      filter: drop-shadow(0px 1px 2px rgba(0, 0, 0, 0.3));\n",
              "      fill: #FFFFFF;\n",
              "    }\n",
              "  </style>\n",
              "\n",
              "      <script>\n",
              "        const buttonEl =\n",
              "          document.querySelector('#df-17b42506-de2b-4fd7-889a-ee8f4d5166d3 button.colab-df-convert');\n",
              "        buttonEl.style.display =\n",
              "          google.colab.kernel.accessAllowed ? 'block' : 'none';\n",
              "\n",
              "        async function convertToInteractive(key) {\n",
              "          const element = document.querySelector('#df-17b42506-de2b-4fd7-889a-ee8f4d5166d3');\n",
              "          const dataTable =\n",
              "            await google.colab.kernel.invokeFunction('convertToInteractive',\n",
              "                                                     [key], {});\n",
              "          if (!dataTable) return;\n",
              "\n",
              "          const docLinkHtml = 'Like what you see? Visit the ' +\n",
              "            '<a target=\"_blank\" href=https://colab.research.google.com/notebooks/data_table.ipynb>data table notebook</a>'\n",
              "            + ' to learn more about interactive tables.';\n",
              "          element.innerHTML = '';\n",
              "          dataTable['output_type'] = 'display_data';\n",
              "          await google.colab.output.renderOutput(dataTable, element);\n",
              "          const docLink = document.createElement('div');\n",
              "          docLink.innerHTML = docLinkHtml;\n",
              "          element.appendChild(docLink);\n",
              "        }\n",
              "      </script>\n",
              "    </div>\n",
              "  </div>\n",
              "  "
            ]
          },
          "metadata": {},
          "execution_count": 3
        }
      ]
    },
    {
      "cell_type": "code",
      "source": [
        "df2.quantity.hist(bins=7)"
      ],
      "metadata": {
        "colab": {
          "base_uri": "https://localhost:8080/",
          "height": 282
        },
        "id": "43uRGYO9t__r",
        "outputId": "6a7248c5-34b7-4335-a0e7-2a0bb0d44ed1"
      },
      "execution_count": null,
      "outputs": [
        {
          "output_type": "execute_result",
          "data": {
            "text/plain": [
              "<matplotlib.axes._subplots.AxesSubplot at 0x7fec2c024590>"
            ]
          },
          "metadata": {},
          "execution_count": 7
        },
        {
          "output_type": "display_data",
          "data": {
            "text/plain": [
              "<Figure size 432x288 with 1 Axes>"
            ],
            "image/png": "[encoded data removed]"
          },
          "metadata": {
            "needs_background": "light"
          }
        }
      ]
    },
    {
      "cell_type": "code",
      "execution_count": null,
      "metadata": {
        "colab": {
          "base_uri": "https://localhost:8080/"
        },
        "id": "2MQ1-Ldpjcs4",
        "outputId": "23786c76-31ff-40d9-d040-648325f13cd3"
      },
      "outputs": [
        {
          "output_type": "execute_result",
          "data": {
            "text/plain": [
              "quantity\n",
              "0    0.000101\n",
              "1    0.000024\n",
              "2    0.000013\n",
              "3    0.000011\n",
              "4    0.000012\n",
              "5    0.000016\n",
              "6    0.000022\n",
              "Name: quantity, dtype: float64"
            ]
          },
          "metadata": {},
          "execution_count": 4
        }
      ],
      "source": [
        "CLASS_WEIGHTS = df2.groupby(['quantity'])['quantity'].count().apply(lambda x: 1/x)\n",
        "CLASS_WEIGHTS"
      ]
    },
    {
      "cell_type": "markdown",
      "metadata": {
        "id": "2CHu4IWajcs5"
      },
      "source": [
        "# Split train and test dataset"
      ]
    },
    {
      "cell_type": "code",
      "execution_count": null,
      "metadata": {
        "id": "i_1m0Tcojcs5"
      },
      "outputs": [],
      "source": [
        "import numpy as np\n",
        "train_all, test_all = np.split(df2.sample(frac=1), [int(.9*len(df2))])"
      ]
    },
    {
      "cell_type": "code",
      "source": [
        "test_all.describe()"
      ],
      "metadata": {
        "colab": {
          "base_uri": "https://localhost:8080/",
          "height": 297
        },
        "id": "qeXX9Q_bvT4g",
        "outputId": "80f0f549-70b1-454c-c8f3-e0c7d8fd38bb"
      },
      "execution_count": null,
      "outputs": [
        {
          "output_type": "execute_result",
          "data": {
            "text/plain": [
              "           quantity\n",
              "count  40803.000000\n",
              "mean       3.376492\n",
              "std        1.580358\n",
              "min        0.000000\n",
              "25%        2.000000\n",
              "50%        3.000000\n",
              "75%        5.000000\n",
              "max        6.000000"
            ],
            "text/html": [
              "\n",
              "  <div id=\"df-2c5e76af-a462-4cf3-b636-b30c36e7ebb6\">\n",
              "    <div class=\"colab-df-container\">\n",
              "      <div>\n",
              "<style scoped>\n",
              "    .dataframe tbody tr th:only-of-type {\n",
              "        vertical-align: middle;\n",
              "    }\n",
              "\n",
              "    .dataframe tbody tr th {\n",
              "        vertical-align: top;\n",
              "    }\n",
              "\n",
              "    .dataframe thead th {\n",
              "        text-align: right;\n",
              "    }\n",
              "</style>\n",
              "<table border=\"1\" class=\"dataframe\">\n",
              "  <thead>\n",
              "    <tr style=\"text-align: right;\">\n",
              "      <th></th>\n",
              "      <th>quantity</th>\n",
              "    </tr>\n",
              "  </thead>\n",
              "  <tbody>\n",
              "    <tr>\n",
              "      <th>count</th>\n",
              "      <td>40803.000000</td>\n",
              "    </tr>\n",
              "    <tr>\n",
              "      <th>mean</th>\n",
              "      <td>3.376492</td>\n",
              "    </tr>\n",
              "    <tr>\n",
              "      <th>std</th>\n",
              "      <td>1.580358</td>\n",
              "    </tr>\n",
              "    <tr>\n",
              "      <th>min</th>\n",
              "      <td>0.000000</td>\n",
              "    </tr>\n",
              "    <tr>\n",
              "      <th>25%</th>\n",
              "      <td>2.000000</td>\n",
              "    </tr>\n",
              "    <tr>\n",
              "      <th>50%</th>\n",
              "      <td>3.000000</td>\n",
              "    </tr>\n",
              "    <tr>\n",
              "      <th>75%</th>\n",
              "      <td>5.000000</td>\n",
              "    </tr>\n",
              "    <tr>\n",
              "      <th>max</th>\n",
              "      <td>6.000000</td>\n",
              "    </tr>\n",
              "  </tbody>\n",
              "</table>\n",
              "</div>\n",
              "      <button class=\"colab-df-convert\" onclick=\"convertToInteractive('df-2c5e76af-a462-4cf3-b636-b30c36e7ebb6')\"\n",
              "              title=\"Convert this dataframe to an interactive table.\"\n",
              "              style=\"display:none;\">\n",
              "        \n",
              "  <svg xmlns=\"http://www.w3.org/2000/svg\" height=\"24px\"viewBox=\"0 0 24 24\"\n",
              "       width=\"24px\">\n",
              "    <path d=\"M0 0h24v24H0V0z\" fill=\"none\"/>\n",
              "    <path d=\"M18.56 5.44l.94 2.06.94-2.06 2.06-.94-2.06-.94-.94-2.06-.94 2.06-2.06.94zm-11 1L8.5 8.5l.94-2.06 2.06-.94-2.06-.94L8.5 2.5l-.94 2.06-2.06.94zm10 10l.94 2.06.94-2.06 2.06-.94-2.06-.94-.94-2.06-.94 2.06-2.06.94z\"/><path d=\"M17.41 7.96l-1.37-1.37c-.4-.4-.92-.59-1.43-.59-.52 0-1.04.2-1.43.59L10.3 9.45l-7.72 7.72c-.78.78-.78 2.05 0 2.83L4 21.41c.39.39.9.59 1.41.59.51 0 1.02-.2 1.41-.59l7.78-7.78 2.81-2.81c.8-.78.8-2.07 0-2.86zM5.41 20L4 18.59l7.72-7.72 1.47 1.35L5.41 20z\"/>\n",
              "  </svg>\n",
              "      </button>\n",
              "      \n",
              "  <style>\n",
              "    .colab-df-container {\n",
              "      display:flex;\n",
              "      flex-wrap:wrap;\n",
              "      gap: 12px;\n",
              "    }\n",
              "\n",
              "    .colab-df-convert {\n",
              "      background-color: #E8F0FE;\n",
              "      border: none;\n",
              "      border-radius: 50%;\n",
              "      cursor: pointer;\n",
              "      display: none;\n",
              "      fill: #1967D2;\n",
              "      height: 32px;\n",
              "      padding: 0 0 0 0;\n",
              "      width: 32px;\n",
              "    }\n",
              "\n",
              "    .colab-df-convert:hover {\n",
              "      background-color: #E2EBFA;\n",
              "      box-shadow: 0px 1px 2px rgba(60, 64, 67, 0.3), 0px 1px 3px 1px rgba(60, 64, 67, 0.15);\n",
              "      fill: #174EA6;\n",
              "    }\n",
              "\n",
              "    [theme=dark] .colab-df-convert {\n",
              "      background-color: #3B4455;\n",
              "      fill: #D2E3FC;\n",
              "    }\n",
              "\n",
              "    [theme=dark] .colab-df-convert:hover {\n",
              "      background-color: #434B5C;\n",
              "      box-shadow: 0px 1px 3px 1px rgba(0, 0, 0, 0.15);\n",
              "      filter: drop-shadow(0px 1px 2px rgba(0, 0, 0, 0.3));\n",
              "      fill: #FFFFFF;\n",
              "    }\n",
              "  </style>\n",
              "\n",
              "      <script>\n",
              "        const buttonEl =\n",
              "          document.querySelector('#df-2c5e76af-a462-4cf3-b636-b30c36e7ebb6 button.colab-df-convert');\n",
              "        buttonEl.style.display =\n",
              "          google.colab.kernel.accessAllowed ? 'block' : 'none';\n",
              "\n",
              "        async function convertToInteractive(key) {\n",
              "          const element = document.querySelector('#df-2c5e76af-a462-4cf3-b636-b30c36e7ebb6');\n",
              "          const dataTable =\n",
              "            await google.colab.kernel.invokeFunction('convertToInteractive',\n",
              "                                                     [key], {});\n",
              "          if (!dataTable) return;\n",
              "\n",
              "          const docLinkHtml = 'Like what you see? Visit the ' +\n",
              "            '<a target=\"_blank\" href=https://colab.research.google.com/notebooks/data_table.ipynb>data table notebook</a>'\n",
              "            + ' to learn more about interactive tables.';\n",
              "          element.innerHTML = '';\n",
              "          dataTable['output_type'] = 'display_data';\n",
              "          await google.colab.output.renderOutput(dataTable, element);\n",
              "          const docLink = document.createElement('div');\n",
              "          docLink.innerHTML = docLinkHtml;\n",
              "          element.appendChild(docLink);\n",
              "        }\n",
              "      </script>\n",
              "    </div>\n",
              "  </div>\n",
              "  "
            ]
          },
          "metadata": {},
          "execution_count": 10
        }
      ]
    },
    {
      "cell_type": "code",
      "source": [
        "test_all.quantity.hist(bins=7)"
      ],
      "metadata": {
        "colab": {
          "base_uri": "https://localhost:8080/",
          "height": 282
        },
        "id": "K198a72BvZJE",
        "outputId": "f7faaf6d-1555-4d2c-ea8e-a8585548af77"
      },
      "execution_count": null,
      "outputs": [
        {
          "output_type": "execute_result",
          "data": {
            "text/plain": [
              "<matplotlib.axes._subplots.AxesSubplot at 0x7fec37a0a390>"
            ]
          },
          "metadata": {},
          "execution_count": 11
        },
        {
          "output_type": "display_data",
          "data": {
            "text/plain": [
              "<Figure size 432x288 with 1 Axes>"
            ],
            "image/png": "[encoded data removed]"
          },
          "metadata": {
            "needs_background": "light"
          }
        }
      ]
    },
    {
      "cell_type": "markdown",
      "metadata": {
        "id": "fSE40DH9jcs5"
      },
      "source": [
        "# Create loader function with WeightedRandomSampler"
      ]
    },
    {
      "cell_type": "code",
      "execution_count": null,
      "metadata": {
        "id": "vrLpUL7Njcs6"
      },
      "outputs": [],
      "source": [
        "from torch.utils.data import DataLoader, Dataset\n",
        "from torch.utils.data.sampler import WeightedRandomSampler\n",
        "from PIL import Image\n",
        "from PIL import ImageFile\n",
        "ImageFile.LOAD_TRUNCATED_IMAGES = True\n",
        "\n",
        "class MyDataset(Dataset):\n",
        "    def __init__(self, X, y, directory, transform):\n",
        "        self.X = X\n",
        "        self.y = y\n",
        "        self.N = len(y)\n",
        "        self.directory = directory\n",
        "        self.transform = transform\n",
        "    \n",
        "    def __len__(self):\n",
        "        return self.N\n",
        "    \n",
        "    def __getitem__(self, idx):\n",
        "        image = self.transform(Image.open('{}{}'.format(self.directory, self.X.iloc[idx, 0])))\n",
        "        return [image, self.y.iloc[idx]]\n",
        "\n",
        "def loader(X, y, transforms):\n",
        "    ds = MyDataset(X, y, 'bin-images-224x224/bin-images-224x224/', transforms)\n",
        "    sample_weights = [0] * len(y)\n",
        "    for idx, label in enumerate(y):\n",
        "        sample_weights[idx] = CLASS_WEIGHTS[label]\n",
        "    sampler = WeightedRandomSampler(sample_weights, num_samples=len(sample_weights))\n",
        "    return DataLoader(ds, batch_size=256, num_workers=6, sampler=sampler)"
      ]
    },
    {
      "cell_type": "markdown",
      "metadata": {
        "id": "Dav-_p3Gjcs6"
      },
      "source": [
        "# Data Augumentation"
      ]
    },
    {
      "cell_type": "code",
      "execution_count": null,
      "metadata": {
        "id": "L45IJ1NTjcs6"
      },
      "outputs": [],
      "source": [
        "import torchvision\n",
        "from torchvision import transforms as T\n",
        "\n",
        "train_transforms = T.Compose([\n",
        "    T.RandomHorizontalFlip(p=0.1),\n",
        "    T.RandomGrayscale(p=0.1),\n",
        "    T.RandomAdjustSharpness(2, p=0.1),\n",
        "    T.RandomAutocontrast(p=0.1),\n",
        "    T.RandomApply([T.ColorJitter(0.5, 0.5, 0.5, 0.5)], p=0.1),\n",
        "    T.RandomApply([T.RandomAffine(degrees=0, translate=(0, 0.02), scale=(0.95, 0.99))], p=0.1),\n",
        "    T.RandomApply([T.RandomChoice([\n",
        "        T.RandomRotation((90, 90)),\n",
        "        T.RandomRotation((-90, -90)),\n",
        "    ])], p=0.1),\n",
        "    T.ToTensor(),\n",
        "])\n",
        "\n",
        "valid_transforms = T.Compose([\n",
        "    T.ToTensor(),\n",
        "])"
      ]
    },
    {
      "cell_type": "markdown",
      "metadata": {
        "id": "5-3xbkknjcs7"
      },
      "source": [
        "# Model Design"
      ]
    },
    {
      "cell_type": "code",
      "source": [
        "import timm\n",
        "import torch\n",
        "import torch.nn as nn\n",
        "device = torch.device(\"cuda\" if torch.cuda.is_available() else \"cpu\")\n",
        "print(device)\n",
        "\n",
        "def net(name, pretrained=True):\n",
        "    model = timm.create_model(name, pretrained)\n",
        "    for param in model.parameters():\n",
        "        param.requires_grad = False\n",
        "\n",
        "    layer = nn.Sequential(\n",
        "        nn.Linear(model.get_classifier().in_features, 7, bias=False),\n",
        "    )\n",
        "    if name.startswith('resnet'):\n",
        "        model.fc = layer\n",
        "    else: # efficientnet\n",
        "        model.classifier = layer\n",
        "    return model"
      ],
      "metadata": {
        "colab": {
          "base_uri": "https://localhost:8080/"
        },
        "id": "1SV4ePUI5hq8",
        "outputId": "8d695958-058e-44da-9b12-0be55c07543f"
      },
      "execution_count": null,
      "outputs": [
        {
          "output_type": "stream",
          "name": "stdout",
          "text": [
            "cuda\n"
          ]
        }
      ]
    },
    {
      "cell_type": "code",
      "execution_count": null,
      "metadata": {
        "colab": {
          "base_uri": "https://localhost:8080/"
        },
        "id": "W3PWFd5Pjcs7",
        "outputId": "9dd27fad-42de-4e9b-b20a-f9490da49a58"
      },
      "outputs": [
        {
          "output_type": "stream",
          "name": "stdout",
          "text": [
            "cuda\n"
          ]
        }
      ],
      "source": [
        "import timm\n",
        "import torch\n",
        "import torch.nn as nn\n",
        "device = torch.device(\"cuda\" if torch.cuda.is_available() else \"cpu\")\n",
        "print(device)\n",
        "\n",
        "def net(name, pretrained=True):\n",
        "    model = timm.create_model(name, pretrained)\n",
        "    for param in model.parameters():\n",
        "        param.requires_grad = False\n",
        "\n",
        "    layer = nn.Sequential(\n",
        "        nn.BatchNorm1d(model.get_classifier().in_features),\n",
        "        nn.Linear(model.get_classifier().in_features, 512, bias=False),\n",
        "        nn.ReLU(),\n",
        "        nn.BatchNorm1d(512),\n",
        "        nn.Dropout(p=0.5, inplace=True),\n",
        "        nn.Linear(512, 7, bias=False))\n",
        "    if name.startswith('resnet'):\n",
        "        model.fc = layer\n",
        "    else: # efficientnet\n",
        "        model.classifier = layer\n",
        "    return model"
      ]
    },
    {
      "cell_type": "markdown",
      "metadata": {
        "id": "PaUsMl3kjcs8"
      },
      "source": [
        "# Define validate and train functions"
      ]
    },
    {
      "cell_type": "code",
      "execution_count": null,
      "metadata": {
        "id": "VKHDuHuvjcs8"
      },
      "outputs": [],
      "source": [
        "import sys\n",
        "from tqdm import tqdm\n",
        "from torch.optim.lr_scheduler import LambdaLR\n",
        "\n",
        "def validate(model, data_loader):\n",
        "    model.eval()\n",
        "    running_corrects=0\n",
        "    for (inputs, labels) in tqdm(data_loader, 'Validate', file=sys.stdout):\n",
        "        inputs, labels = inputs.to(device), labels.to(device)\n",
        "        outputs = model(inputs)\n",
        "        _, preds = torch.max(outputs, 1)\n",
        "        running_corrects += torch.sum(preds == labels.data).item()\n",
        "        \n",
        "    total_acc = 100.0 * running_corrects / len(data_loader.dataset)\n",
        "    print(\"Average accuracy: %f\" % total_acc)\n",
        "    return total_acc\n",
        "\n",
        "def train(model, train_loader, valid_loader, epochs, optimizer):\n",
        "    # scheduler = LambdaLR(optimizer, lr_lambda=lambda e: 0.65 ** e)\n",
        "    criterion = nn.CrossEntropyLoss()\n",
        "    model.train()\n",
        "    previous_accuracy = 0\n",
        "    for e in range(1, epochs+1):\n",
        "        train_loss = 0\n",
        "        for (inputs, labels) in tqdm(train_loader, 'Epoch %s' % e, file=sys.stdout):\n",
        "            optimizer.zero_grad()\n",
        "            inputs, labels = inputs.to(device), labels.to(device)\n",
        "            outputs = model(inputs)\n",
        "            loss = criterion(outputs, labels)\n",
        "            loss.backward()\n",
        "            optimizer.step()\n",
        "            train_loss += loss.item()\n",
        "        print(f'Epoch {e:3d}, Loss: {train_loss / len(train_loader)}')\n",
        "        # scheduler.step()\n",
        "    return model"
      ]
    },
    {
      "cell_type": "markdown",
      "source": [
        "# Baseline"
      ],
      "metadata": {
        "id": "kZyfphmNxI-2"
      }
    },
    {
      "cell_type": "code",
      "source": [
        "from torch.optim import Adam\n",
        "from sklearn.model_selection import StratifiedKFold\n",
        "\n",
        "name = 'efficientnet_b0'\n",
        "EPOCHS = 5\n",
        "\n",
        "# Split with the original dataframe ds2.length in order to test_all.length\n",
        "train_baseline, valid_baseline = np.split(train_all, [int(.8*len(df2))])\n",
        "\n",
        "X1 = train_baseline.drop('quantity', axis=1)\n",
        "y1 = train_baseline.quantity\n",
        "t = loader(X1, y1, T.ToTensor())\n",
        "\n",
        "X2 = valid_baseline.drop('quantity', axis=1)\n",
        "y2 = valid_baseline.quantity\n",
        "v = loader(X2, y2, T.ToTensor())\n",
        "\n",
        "model = net(name).to(device)\n",
        "optimizer = Adam(model.get_classifier().parameters(), lr=1e-3, weight_decay=1e-4)\n",
        "model = train(model, t, v, EPOCHS, optimizer)"
      ],
      "metadata": {
        "colab": {
          "base_uri": "https://localhost:8080/"
        },
        "id": "3eWD9KVExIUj",
        "outputId": "58cabb70-0a9c-4685-8fed-8dacd7d6c3d6"
      },
      "execution_count": null,
      "outputs": [
        {
          "output_type": "stream",
          "name": "stdout",
          "text": [
            "Epoch 1: 100%|██████████| 1276/1276 [03:50<00:00,  5.53it/s]\n",
            "Epoch   1, Loss: 1.4472633452624737\n",
            "Epoch 2: 100%|██████████| 1276/1276 [03:51<00:00,  5.51it/s]\n",
            "Epoch   2, Loss: 1.3839595676589536\n",
            "Epoch 3: 100%|██████████| 1276/1276 [03:51<00:00,  5.51it/s]\n",
            "Epoch   3, Loss: 1.3611664063878195\n",
            "Epoch 4: 100%|██████████| 1276/1276 [03:51<00:00,  5.51it/s]\n",
            "Epoch   4, Loss: 1.343955051095508\n",
            "Epoch 5: 100%|██████████| 1276/1276 [03:50<00:00,  5.53it/s]\n",
            "Epoch   5, Loss: 1.335154479293614\n"
          ]
        }
      ]
    },
    {
      "cell_type": "code",
      "source": [
        "X = test_all.drop('quantity', axis=1)\n",
        "y = test_all.quantity\n",
        "\n",
        "test_dataset = MyDataset(X, y, 'bin-images-224x224/bin-images-224x224/', valid_transforms)\n",
        "test_loader  = DataLoader(test_dataset, batch_size=256, num_workers=6)\n",
        "\n",
        "model.eval()\n",
        "\n",
        "running_corrects=0\n",
        "l, p = [], []\n",
        "for (inputs, labels) in tqdm(test_loader, 'Test', file=sys.stdout):\n",
        "    inputs, labels = inputs.to(device), labels.to(device)\n",
        "    outputs = model(inputs)\n",
        "    _, preds = torch.max(outputs, 1)\n",
        "    running_corrects += torch.sum(preds == labels.data).item()\n",
        "    l.extend(labels.tolist())\n",
        "    p.extend(preds.tolist())\n",
        "accuracy = 100.0 * running_corrects / len(test_loader.dataset)\n",
        "\n",
        "print(\"Average accuracy: %f\" % accuracy)"
      ],
      "metadata": {
        "colab": {
          "base_uri": "https://localhost:8080/"
        },
        "id": "d9xPjRIO2CNO",
        "outputId": "d50dddad-e798-4913-a70c-4c2eaca6d147"
      },
      "execution_count": null,
      "outputs": [
        {
          "output_type": "stream",
          "name": "stdout",
          "text": [
            "Test: 100%|██████████| 160/160 [00:27<00:00,  5.78it/s]\n",
            "Average accuracy: 28.963557\n"
          ]
        }
      ]
    },
    {
      "cell_type": "code",
      "source": [
        "from sklearn.metrics import confusion_matrix\n",
        "confusion_matrix(l, p)"
      ],
      "metadata": {
        "colab": {
          "base_uri": "https://localhost:8080/"
        },
        "id": "78vbdgCDzZ06",
        "outputId": "264f1c98-e672-4bbd-fe71-bc22bf8ecab2"
      },
      "execution_count": null,
      "outputs": [
        {
          "output_type": "execute_result",
          "data": {
            "text/plain": [
              "array([[ 970,   74,    5,    2,    1,    0,    1],\n",
              "       [ 170, 2572,  832,  203,   89,   95,  191],\n",
              "       [  51, 2118, 2472, 1052,  555,  526,  949],\n",
              "       [  14, 1172, 2284, 1436, 1178, 1017, 1925],\n",
              "       [   1,  622, 1417, 1144, 1103, 1251, 2483],\n",
              "       [   7,  329,  835,  725,  789, 1099, 2524],\n",
              "       [   1,  178,  433,  447,  494,  801, 2166]])"
            ]
          },
          "metadata": {},
          "execution_count": 26
        }
      ]
    },
    {
      "cell_type": "code",
      "source": [
        "from collections import Counter\n",
        "\n",
        "dic = {}\n",
        "total = {}\n",
        "for i, j in zip(l, p):\n",
        "    if i in total:\n",
        "        total[i] += 1\n",
        "    else:\n",
        "        total[i] = 1\n",
        "\n",
        "    if i == j:\n",
        "        if i in dic:\n",
        "            dic[i] += 1\n",
        "        else:\n",
        "            dic[i] = 1\n",
        "        \n",
        "\n",
        "for i in range(7):\n",
        "    print(\"%s %s (%s/%s)\" % (i, 100.0 * dic[i] / total[i], dic[i], total[i]))"
      ],
      "metadata": {
        "colab": {
          "base_uri": "https://localhost:8080/"
        },
        "id": "1GDlZFDZzZjx",
        "outputId": "bd036ad2-6a1b-43ec-9b45-6466adeffa6d"
      },
      "execution_count": null,
      "outputs": [
        {
          "output_type": "stream",
          "name": "stdout",
          "text": [
            "0 92.11775878442545 (970/1053)\n",
            "1 61.946050096339114 (2572/4152)\n",
            "2 32.00828693512884 (2472/7723)\n",
            "3 15.909594504764016 (1436/9026)\n",
            "4 13.751402568258323 (1103/8021)\n",
            "5 17.422320862396955 (1099/6308)\n",
            "6 47.92035398230089 (2166/4520)\n"
          ]
        }
      ]
    },
    {
      "cell_type": "markdown",
      "source": [
        "# Final"
      ],
      "metadata": {
        "id": "ZoMIY3vJX_ml"
      }
    },
    {
      "cell_type": "code",
      "source": [
        "from torch.optim import Adam\n",
        "from sklearn.model_selection import StratifiedKFold\n",
        "\n",
        "name = 'efficientnet_b0'\n",
        "EPOCHS = 10\n",
        "IMAGE_SIZES = [112, 224]\n",
        "\n",
        "# Split with the original dataframe ds2.length in order to test_all.length\n",
        "train_baseline, valid_baseline = np.split(train_all, [int(.8*len(df2))])\n",
        "\n",
        "X1 = train_baseline.drop('quantity', axis=1)\n",
        "y1 = train_baseline.quantity\n",
        "X2 = valid_baseline.drop('quantity', axis=1)\n",
        "y2 = valid_baseline.quantity\n",
        "\n",
        "model = net(name).to(device)\n",
        "for s in IMAGE_SIZES:\n",
        "    t = loader(X1, y1, T.Compose([T.Resize(s), train_transforms]))\n",
        "    v = loader(X2, y2, T.ToTensor())\n",
        "    optimizer = Adam(model.get_classifier().parameters(), lr=1e-3, weight_decay=1e-4)\n",
        "    model = train(model, t, v, EPOCHS, optimizer)"
      ],
      "metadata": {
        "id": "EnTcciMWX-pG",
        "colab": {
          "base_uri": "https://localhost:8080/"
        },
        "outputId": "936886c9-4010-4b9b-e729-89cc343519ed"
      },
      "execution_count": null,
      "outputs": [
        {
          "output_type": "stream",
          "name": "stdout",
          "text": [
            "Epoch 1: 100%|██████████| 1276/1276 [02:48<00:00,  7.55it/s]\n",
            "Epoch   1, Loss: 1.5635294910508637\n",
            "Epoch 2: 100%|██████████| 1276/1276 [02:50<00:00,  7.49it/s]\n",
            "Epoch   2, Loss: 1.5056668970278437\n",
            "Epoch 3: 100%|██████████| 1276/1276 [02:48<00:00,  7.56it/s]\n",
            "Epoch   3, Loss: 1.492254025323264\n",
            "Epoch 4: 100%|██████████| 1276/1276 [02:50<00:00,  7.50it/s]\n",
            "Epoch   4, Loss: 1.4810951585679966\n",
            "Epoch 5: 100%|██████████| 1276/1276 [02:50<00:00,  7.48it/s]\n",
            "Epoch   5, Loss: 1.4755317808879207\n",
            "Epoch 6: 100%|██████████| 1276/1276 [02:50<00:00,  7.50it/s]\n",
            "Epoch   6, Loss: 1.4739703565929376\n",
            "Epoch 7: 100%|██████████| 1276/1276 [02:50<00:00,  7.49it/s]\n",
            "Epoch   7, Loss: 1.4723540901390362\n",
            "Epoch 8: 100%|██████████| 1276/1276 [02:50<00:00,  7.48it/s]\n",
            "Epoch   8, Loss: 1.4710612388613828\n",
            "Epoch 9: 100%|██████████| 1276/1276 [02:49<00:00,  7.52it/s]\n",
            "Epoch   9, Loss: 1.4707025609980555\n",
            "Epoch 10: 100%|██████████| 1276/1276 [02:49<00:00,  7.51it/s]\n",
            "Epoch  10, Loss: 1.4674560752781955\n",
            "Epoch 1: 100%|██████████| 1276/1276 [04:21<00:00,  4.88it/s]\n",
            "Epoch   1, Loss: 1.4584991064938633\n",
            "Epoch 2: 100%|██████████| 1276/1276 [04:21<00:00,  4.88it/s]\n",
            "Epoch   2, Loss: 1.4259517202182996\n",
            "Epoch 3: 100%|██████████| 1276/1276 [04:21<00:00,  4.88it/s]\n",
            "Epoch   3, Loss: 1.4203191002521396\n",
            "Epoch 4: 100%|██████████| 1276/1276 [04:21<00:00,  4.88it/s]\n",
            "Epoch   4, Loss: 1.4169723552222535\n",
            "Epoch 5: 100%|██████████| 1276/1276 [04:21<00:00,  4.89it/s]\n",
            "Epoch   5, Loss: 1.4158478335340194\n",
            "Epoch 6: 100%|██████████| 1276/1276 [04:21<00:00,  4.88it/s]\n",
            "Epoch   6, Loss: 1.4120848318065595\n",
            "Epoch 7: 100%|██████████| 1276/1276 [04:22<00:00,  4.85it/s]\n",
            "Epoch   7, Loss: 1.4101650918539042\n",
            "Epoch 8: 100%|██████████| 1276/1276 [04:20<00:00,  4.90it/s]\n",
            "Epoch   8, Loss: 1.4063890583836547\n",
            "Epoch 9: 100%|██████████| 1276/1276 [04:21<00:00,  4.88it/s]\n",
            "Epoch   9, Loss: 1.4089485099509966\n",
            "Epoch 10: 100%|██████████| 1276/1276 [04:21<00:00,  4.88it/s]\n",
            "Epoch  10, Loss: 1.4050210720879905\n"
          ]
        }
      ]
    },
    {
      "cell_type": "code",
      "source": [
        "X = test_all.drop('quantity', axis=1)\n",
        "y = test_all.quantity\n",
        "\n",
        "test_dataset = MyDataset(X, y, 'bin-images-224x224/bin-images-224x224/', valid_transforms)\n",
        "test_loader  = DataLoader(test_dataset, batch_size=256, num_workers=6)\n",
        "\n",
        "model.eval()\n",
        "\n",
        "running_corrects=0\n",
        "l, p = [], []\n",
        "for (inputs, labels) in tqdm(test_loader, 'Test', file=sys.stdout):\n",
        "    inputs, labels = inputs.to(device), labels.to(device)\n",
        "    outputs = model(inputs)\n",
        "    _, preds = torch.max(outputs, 1)\n",
        "    running_corrects += torch.sum(preds == labels.data).item()\n",
        "    l.extend(labels.tolist())\n",
        "    p.extend(preds.tolist())\n",
        "accuracy = 100.0 * running_corrects / len(test_loader.dataset)\n",
        "\n",
        "print(\"Average accuracy: %f\" % accuracy)"
      ],
      "metadata": {
        "colab": {
          "base_uri": "https://localhost:8080/"
        },
        "id": "znOLSdTK5GHH",
        "outputId": "0f97338b-f298-492a-a4b0-0cce3043ca09"
      },
      "execution_count": null,
      "outputs": [
        {
          "output_type": "stream",
          "name": "stdout",
          "text": [
            "Test: 100%|██████████| 160/160 [00:27<00:00,  5.90it/s]\n",
            "Average accuracy: 29.723305\n"
          ]
        }
      ]
    },
    {
      "cell_type": "code",
      "source": [
        "from sklearn.metrics import confusion_matrix\n",
        "confusion_matrix(l, p)"
      ],
      "metadata": {
        "colab": {
          "base_uri": "https://localhost:8080/"
        },
        "id": "j_C1Jp3_v2c-",
        "outputId": "138dc744-d89f-4f71-8da1-d2834f52487f"
      },
      "execution_count": null,
      "outputs": [
        {
          "output_type": "execute_result",
          "data": {
            "text/plain": [
              "array([[ 999,   48,    5,    0,    0,    0,    1],\n",
              "       [ 204, 2560,  875,  198,   46,  134,  135],\n",
              "       [  62, 2012, 2516, 1221,  381,  875,  656],\n",
              "       [  18, 1068, 2221, 1701,  722, 1914, 1382],\n",
              "       [   1,  599, 1304, 1282,  739, 2187, 1909],\n",
              "       [   6,  335,  794,  789,  498, 1842, 2044],\n",
              "       [   1,  171,  465,  448,  276, 1388, 1771]])"
            ]
          },
          "metadata": {},
          "execution_count": 15
        }
      ]
    }
  ],
  "metadata": {
    "accelerator": "GPU",
    "colab": {
      "background_execution": "on",
      "collapsed_sections": [],
      "machine_shape": "hm",
      "name": "Submission.ipynb",
      "provenance": []
    },
    "kernelspec": {
      "display_name": "Python 3",
      "language": "python",
      "name": "python3"
    },
    "language_info": {
      "codemirror_mode": {
        "name": "ipython",
        "version": 3
      },
      "file_extension": ".py",
      "mimetype": "text/x-python",
      "name": "python",
      "nbconvert_exporter": "python",
      "pygments_lexer": "ipython3",
      "version": "3.7.12"
    }
  },
  "nbformat": 4,
  "nbformat_minor": 0
}
