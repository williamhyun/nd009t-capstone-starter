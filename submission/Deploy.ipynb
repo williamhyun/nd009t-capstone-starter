{
 "cells": [
  {
   "cell_type": "code",
   "execution_count": 19,
   "id": "366de4e5",
   "metadata": {},
   "outputs": [
    {
     "name": "stdout",
     "output_type": "stream",
     "text": [
      "------!"
     ]
    }
   ],
   "source": [
    "import sagemaker\n",
    "import boto3\n",
    "import os\n",
    "\n",
    "from sagemaker.predictor import Predictor\n",
    "from sagemaker.pytorch import PyTorchModel\n",
    "\n",
    "sagemaker_session = sagemaker.Session()\n",
    "role = sagemaker.get_execution_role()\n",
    "\n",
    "class ImagePredictor(Predictor):\n",
    "  def __init__(self, endpoint_name, sagemaker_session):\n",
    "    super(ImagePredictor, self).__init__(\n",
    "      endpoint_name,\n",
    "      sagemaker_session=sagemaker_session,\n",
    "      serializer=sagemaker.serializers.IdentitySerializer(\"image/jpeg\"),\n",
    "      deserializer=sagemaker.deserializers.JSONDeserializer())\n",
    "    \n",
    "pytorch_model = PyTorchModel(model_data=\"s3://amazonbin/deploy/model.tar.gz\",\n",
    "                             image_uri=\"763104351884.dkr.ecr.us-east-1.amazonaws.com/pytorch-inference:1.11.0-cpu-py38-ubuntu20.04-sagemaker\",\n",
    "                             role=role,\n",
    "                             entry_point='model/code/inference.py',\n",
    "                             py_version='py3',\n",
    "                             framework_version='1.8.0',\n",
    "                             predictor_cls=ImagePredictor)\n",
    "\n",
    "predictor = pytorch_model.deploy(initial_instance_count=1, instance_type='ml.m5.large')"
   ]
  },
  {
   "cell_type": "code",
   "execution_count": 20,
   "id": "d7f8aa34",
   "metadata": {},
   "outputs": [],
   "source": [
    "from PIL import Image\n",
    "import io\n",
    "buf = io.BytesIO()\n",
    "Image.open(\"00024.jpg\").save(buf, format=\"JPEG\")\n",
    "\n",
    "response = predictor.predict(buf.getvalue())"
   ]
  },
  {
   "cell_type": "code",
   "execution_count": 21,
   "id": "f6dd488d",
   "metadata": {},
   "outputs": [
    {
     "data": {
      "text/plain": [
       "[[-2.8799102306365967,\n",
       "  2.4312524795532227,\n",
       "  1.433470606803894,\n",
       "  0.49086323380470276,\n",
       "  -0.32889169454574585,\n",
       "  -0.8075268864631653,\n",
       "  -1.3364081382751465]]"
      ]
     },
     "execution_count": 21,
     "metadata": {},
     "output_type": "execute_result"
    }
   ],
   "source": [
    "response"
   ]
  },
  {
   "cell_type": "code",
   "execution_count": null,
   "id": "72603234",
   "metadata": {},
   "outputs": [],
   "source": [
    "predictor.delete_endpoint()"
   ]
  },
  {
   "cell_type": "code",
   "execution_count": null,
   "id": "3eeb99ea",
   "metadata": {},
   "outputs": [],
   "source": []
  }
 ],
 "metadata": {
  "kernelspec": {
   "display_name": "conda_mxnet_latest_p37",
   "language": "python",
   "name": "conda_mxnet_latest_p37"
  },
  "language_info": {
   "codemirror_mode": {
    "name": "ipython",
    "version": 3
   },
   "file_extension": ".py",
   "mimetype": "text/x-python",
   "name": "python",
   "nbconvert_exporter": "python",
   "pygments_lexer": "ipython3",
   "version": "3.7.10"
  }
 },
 "nbformat": 4,
 "nbformat_minor": 5
}
